{
 "cells": [
  {
   "cell_type": "markdown",
   "id": "17be3cde-d4b9-476f-88a6-38dc94ec034e",
   "metadata": {},
   "source": [
    "### Pre-requisites"
   ]
  },
  {
   "cell_type": "code",
   "execution_count": 1,
   "id": "8647084d-0133-491a-be60-d92f965f266a",
   "metadata": {},
   "outputs": [],
   "source": [
    "import warnings\n",
    "warnings.filterwarnings(action='ignore')"
   ]
  },
  {
   "cell_type": "markdown",
   "id": "04cc884a-d3c2-4bbe-a1cc-2fb0932fae91",
   "metadata": {},
   "source": [
    "### Import necessary libraries"
   ]
  },
  {
   "cell_type": "code",
   "execution_count": 2,
   "id": "4b8bd873-93cf-4df8-99e8-9af2a773e752",
   "metadata": {},
   "outputs": [],
   "source": [
    "import numpy as np\n",
    "import matplotlib.pyplot as plt\n",
    "import seaborn as sns\n",
    "import torch\n",
    "import torch.nn as nn\n",
    "import torch.optim as optim\n",
    "from torch.utils.data import Dataset, DataLoader\n",
    "import pandas as pd\n",
    "from sklearn.model_selection import train_test_split\n",
    "from sklearn.preprocessing import LabelEncoder"
   ]
  },
  {
   "cell_type": "markdown",
   "id": "efefaced-bcdf-4542-944a-9928df4ea96b",
   "metadata": {},
   "source": [
    "### Load the data"
   ]
  },
  {
   "cell_type": "code",
   "execution_count": null,
   "id": "625512a0-95e6-40e8-a27f-44afbdda4c34",
   "metadata": {},
   "outputs": [
    {
     "data": {
      "text/html": [
       "<div>\n",
       "<style scoped>\n",
       "    .dataframe tbody tr th:only-of-type {\n",
       "        vertical-align: middle;\n",
       "    }\n",
       "\n",
       "    .dataframe tbody tr th {\n",
       "        vertical-align: top;\n",
       "    }\n",
       "\n",
       "    .dataframe thead th {\n",
       "        text-align: right;\n",
       "    }\n",
       "</style>\n",
       "<table border=\"1\" class=\"dataframe\">\n",
       "  <thead>\n",
       "    <tr style=\"text-align: right;\">\n",
       "      <th></th>\n",
       "      <th>user_id</th>\n",
       "      <th>movie_id</th>\n",
       "      <th>rating</th>\n",
       "      <th>timestamp</th>\n",
       "      <th>title</th>\n",
       "      <th>release_date</th>\n",
       "      <th>genre_names</th>\n",
       "      <th>original_language_full</th>\n",
       "    </tr>\n",
       "  </thead>\n",
       "  <tbody>\n",
       "    <tr>\n",
       "      <th>2180457</th>\n",
       "      <td>41466</td>\n",
       "      <td>4494</td>\n",
       "      <td>3.0</td>\n",
       "      <td>995060042</td>\n",
       "      <td>Rapture</td>\n",
       "      <td>1980-06-09</td>\n",
       "      <td>['Drama', 'Fantasy', 'Horror']</td>\n",
       "      <td>Spanish</td>\n",
       "    </tr>\n",
       "    <tr>\n",
       "      <th>3949089</th>\n",
       "      <td>75255</td>\n",
       "      <td>858</td>\n",
       "      <td>5.0</td>\n",
       "      <td>1433827358</td>\n",
       "      <td>Sleepless in Seattle</td>\n",
       "      <td>1993-06-24</td>\n",
       "      <td>['Comedy', 'Drama', 'Romance']</td>\n",
       "      <td>English</td>\n",
       "    </tr>\n",
       "    <tr>\n",
       "      <th>6859182</th>\n",
       "      <td>130873</td>\n",
       "      <td>4148</td>\n",
       "      <td>2.0</td>\n",
       "      <td>992186425</td>\n",
       "      <td>Revolutionary Road</td>\n",
       "      <td>2008-12-19</td>\n",
       "      <td>['Drama', 'Romance']</td>\n",
       "      <td>English</td>\n",
       "    </tr>\n",
       "    <tr>\n",
       "      <th>2623125</th>\n",
       "      <td>49929</td>\n",
       "      <td>293</td>\n",
       "      <td>4.0</td>\n",
       "      <td>1273343444</td>\n",
       "      <td>A River Runs Through It</td>\n",
       "      <td>1992-10-09</td>\n",
       "      <td>['Drama', 'Family']</td>\n",
       "      <td>English</td>\n",
       "    </tr>\n",
       "    <tr>\n",
       "      <th>1182168</th>\n",
       "      <td>22677</td>\n",
       "      <td>1213</td>\n",
       "      <td>4.0</td>\n",
       "      <td>1132685118</td>\n",
       "      <td>The Talented Mr. Ripley</td>\n",
       "      <td>1999-12-25</td>\n",
       "      <td>['Thriller', 'Crime', 'Drama']</td>\n",
       "      <td>English</td>\n",
       "    </tr>\n",
       "  </tbody>\n",
       "</table>\n",
       "</div>"
      ],
      "text/plain": [
       "         user_id  movie_id  rating   timestamp                    title  \\\n",
       "2180457    41466      4494     3.0   995060042                  Rapture   \n",
       "3949089    75255       858     5.0  1433827358     Sleepless in Seattle   \n",
       "6859182   130873      4148     2.0   992186425       Revolutionary Road   \n",
       "2623125    49929       293     4.0  1273343444  A River Runs Through It   \n",
       "1182168    22677      1213     4.0  1132685118  The Talented Mr. Ripley   \n",
       "\n",
       "        release_date                     genre_names original_language_full  \n",
       "2180457   1980-06-09  ['Drama', 'Fantasy', 'Horror']                Spanish  \n",
       "3949089   1993-06-24  ['Comedy', 'Drama', 'Romance']                English  \n",
       "6859182   2008-12-19            ['Drama', 'Romance']                English  \n",
       "2623125   1992-10-09             ['Drama', 'Family']                English  \n",
       "1182168   1999-12-25  ['Thriller', 'Crime', 'Drama']                English  "
      ]
     },
     "execution_count": 3,
     "metadata": {},
     "output_type": "execute_result"
    }
   ],
   "source": [
    "df = pd.read_csv('../merged_moviecine_tmdb.csv')\n",
    "df.sample(5)"
   ]
  },
  {
   "cell_type": "code",
   "execution_count": 6,
   "id": "db5bf4f3-c8dd-4761-8b69-d55d87eea3e0",
   "metadata": {},
   "outputs": [
    {
     "data": {
      "text/plain": [
       "user_id                   0\n",
       "movie_id                  0\n",
       "rating                    0\n",
       "timestamp                 0\n",
       "title                     0\n",
       "release_date              0\n",
       "genre_names               0\n",
       "original_language_full    0\n",
       "user                      0\n",
       "movie                     0\n",
       "dtype: int64"
      ]
     },
     "execution_count": 6,
     "metadata": {},
     "output_type": "execute_result"
    }
   ],
   "source": [
    "df.isna().sum()\n"
   ]
  },
  {
   "cell_type": "code",
   "execution_count": 7,
   "id": "8e0a406c",
   "metadata": {},
   "outputs": [
    {
     "data": {
      "text/plain": [
       "np.int64(0)"
      ]
     },
     "execution_count": 7,
     "metadata": {},
     "output_type": "execute_result"
    }
   ],
   "source": [
    "df.duplicated().sum()"
   ]
  },
  {
   "cell_type": "code",
   "execution_count": 9,
   "id": "5bb48ed3",
   "metadata": {},
   "outputs": [
    {
     "data": {
      "text/plain": [
       "user_id                   0\n",
       "movie_id                  0\n",
       "rating                    0\n",
       "timestamp                 0\n",
       "title                     0\n",
       "release_date              0\n",
       "genre_names               0\n",
       "original_language_full    0\n",
       "user                      0\n",
       "movie                     0\n",
       "dtype: int64"
      ]
     },
     "execution_count": 9,
     "metadata": {},
     "output_type": "execute_result"
    }
   ],
   "source": [
    "df.isnull().sum()"
   ]
  },
  {
   "cell_type": "code",
   "execution_count": 10,
   "id": "5f5c4990",
   "metadata": {},
   "outputs": [
    {
     "data": {
      "text/plain": [
       "\"['Horror', 'Thriller', 'Mystery']\""
      ]
     },
     "execution_count": 10,
     "metadata": {},
     "output_type": "execute_result"
    }
   ],
   "source": [
    "df.iloc[0].genre_names"
   ]
  },
  {
   "cell_type": "code",
   "execution_count": 12,
   "id": "bb7a2073",
   "metadata": {},
   "outputs": [
    {
     "data": {
      "text/html": [
       "<div>\n",
       "<style scoped>\n",
       "    .dataframe tbody tr th:only-of-type {\n",
       "        vertical-align: middle;\n",
       "    }\n",
       "\n",
       "    .dataframe tbody tr th {\n",
       "        vertical-align: top;\n",
       "    }\n",
       "\n",
       "    .dataframe thead th {\n",
       "        text-align: right;\n",
       "    }\n",
       "</style>\n",
       "<table border=\"1\" class=\"dataframe\">\n",
       "  <thead>\n",
       "    <tr style=\"text-align: right;\">\n",
       "      <th></th>\n",
       "      <th>user_id</th>\n",
       "      <th>movie_id</th>\n",
       "      <th>rating</th>\n",
       "      <th>timestamp</th>\n",
       "      <th>title</th>\n",
       "      <th>release_date</th>\n",
       "      <th>genre_names</th>\n",
       "      <th>original_language_full</th>\n",
       "      <th>user</th>\n",
       "      <th>movie</th>\n",
       "    </tr>\n",
       "  </thead>\n",
       "  <tbody>\n",
       "    <tr>\n",
       "      <th>0</th>\n",
       "      <td>1</td>\n",
       "      <td>17</td>\n",
       "      <td>4.0</td>\n",
       "      <td>944249077</td>\n",
       "      <td>The Dark</td>\n",
       "      <td>2005-09-28</td>\n",
       "      <td>['Horror', 'Thriller', 'Mystery']</td>\n",
       "      <td>English</td>\n",
       "      <td>0</td>\n",
       "      <td>9</td>\n",
       "    </tr>\n",
       "    <tr>\n",
       "      <th>1</th>\n",
       "      <td>1</td>\n",
       "      <td>25</td>\n",
       "      <td>1.0</td>\n",
       "      <td>944250228</td>\n",
       "      <td>Jarhead</td>\n",
       "      <td>2005-11-04</td>\n",
       "      <td>['Drama', 'War']</td>\n",
       "      <td>English</td>\n",
       "      <td>0</td>\n",
       "      <td>14</td>\n",
       "    </tr>\n",
       "    <tr>\n",
       "      <th>2</th>\n",
       "      <td>1</td>\n",
       "      <td>80</td>\n",
       "      <td>5.0</td>\n",
       "      <td>944248943</td>\n",
       "      <td>Before Sunset</td>\n",
       "      <td>2004-06-16</td>\n",
       "      <td>['Drama', 'Romance']</td>\n",
       "      <td>English</td>\n",
       "      <td>0</td>\n",
       "      <td>39</td>\n",
       "    </tr>\n",
       "    <tr>\n",
       "      <th>3</th>\n",
       "      <td>1</td>\n",
       "      <td>110</td>\n",
       "      <td>3.0</td>\n",
       "      <td>943231119</td>\n",
       "      <td>Three Colors: Red</td>\n",
       "      <td>1994-05-12</td>\n",
       "      <td>['Drama', 'Mystery', 'Romance']</td>\n",
       "      <td>French</td>\n",
       "      <td>0</td>\n",
       "      <td>64</td>\n",
       "    </tr>\n",
       "    <tr>\n",
       "      <th>4</th>\n",
       "      <td>1</td>\n",
       "      <td>111</td>\n",
       "      <td>5.0</td>\n",
       "      <td>944249008</td>\n",
       "      <td>Scarface</td>\n",
       "      <td>1983-12-09</td>\n",
       "      <td>['Action', 'Crime', 'Drama']</td>\n",
       "      <td>English</td>\n",
       "      <td>0</td>\n",
       "      <td>65</td>\n",
       "    </tr>\n",
       "  </tbody>\n",
       "</table>\n",
       "</div>"
      ],
      "text/plain": [
       "   user_id  movie_id  rating  timestamp              title release_date  \\\n",
       "0        1        17     4.0  944249077           The Dark   2005-09-28   \n",
       "1        1        25     1.0  944250228            Jarhead   2005-11-04   \n",
       "2        1        80     5.0  944248943      Before Sunset   2004-06-16   \n",
       "3        1       110     3.0  943231119  Three Colors: Red   1994-05-12   \n",
       "4        1       111     5.0  944249008           Scarface   1983-12-09   \n",
       "\n",
       "                         genre_names original_language_full  user  movie  \n",
       "0  ['Horror', 'Thriller', 'Mystery']                English     0      9  \n",
       "1                   ['Drama', 'War']                English     0     14  \n",
       "2               ['Drama', 'Romance']                English     0     39  \n",
       "3    ['Drama', 'Mystery', 'Romance']                 French     0     64  \n",
       "4       ['Action', 'Crime', 'Drama']                English     0     65  "
      ]
     },
     "execution_count": 12,
     "metadata": {},
     "output_type": "execute_result"
    }
   ],
   "source": [
    "df.head()"
   ]
  },
  {
   "cell_type": "code",
   "execution_count": null,
   "id": "735a3c18",
   "metadata": {},
   "outputs": [],
   "source": []
  }
 ],
 "metadata": {
  "kernelspec": {
   "display_name": "Python 3",
   "language": "python",
   "name": "python3"
  },
  "language_info": {
   "codemirror_mode": {
    "name": "ipython",
    "version": 3
   },
   "file_extension": ".py",
   "mimetype": "text/x-python",
   "name": "python",
   "nbconvert_exporter": "python",
   "pygments_lexer": "ipython3",
   "version": "3.13.2"
  }
 },
 "nbformat": 4,
 "nbformat_minor": 5
}
